{
  "nbformat": 4,
  "nbformat_minor": 0,
  "metadata": {
    "colab": {
      "provenance": []
    },
    "kernelspec": {
      "name": "python3",
      "display_name": "Python 3"
    },
    "language_info": {
      "name": "python"
    }
  },
  "cells": [
    {
      "cell_type": "code",
      "execution_count": null,
      "metadata": {
        "id": "IlRz2wAqIeRC"
      },
      "outputs": [],
      "source": [
        "%%capture\n",
        "!pip install opencv-python\n",
        "!pip install pytesseract\n",
        "\n",
        "\n",
        "!wget https://www.dropbox.com/s/r2ingd0l3zt8hxs/frozen_east_text_detection.tar.gz?dl=1 -O frozen_east_text_detection.tar.gz\n",
        "!tar -xzf frozen_east_text_detection.tar.gz\n",
        "\n",
        "!sudo apt install tesseract-ocr\n",
        "!pip install pytesseract"
      ]
    },
    {
      "cell_type": "code",
      "source": [
        "import requests\n",
        "from PIL import Image\n",
        "from io import BytesIO\n",
        "import cv2\n",
        "import numpy as np\n",
        "import matplotlib.pyplot as plt\n",
        "import math\n",
        "import re\n",
        "import pytesseract\n",
        "\n",
        "# Load the pre-trained EAST model\n",
        "model = cv2.dnn.readNet(\"frozen_east_text_detection.pb\")\n"
      ],
      "metadata": {
        "id": "BR9DKepIIonO"
      },
      "execution_count": null,
      "outputs": []
    },
    {
      "cell_type": "code",
      "source": [
        "# function to load web images\n",
        "def download_image(url):\n",
        "    response = requests.get(url)\n",
        "    # Convert the image data to a numpy array\n",
        "    image_array = np.asarray(bytearray(response.content), dtype=np.uint8)\n",
        "\n",
        "    # Decode the image array using OpenCV\n",
        "    image = cv2.imdecode(image_array, cv2.IMREAD_COLOR)\n",
        "    return image"
      ],
      "metadata": {
        "id": "husPNc7tJNXQ"
      },
      "execution_count": null,
      "outputs": []
    },
    {
      "cell_type": "code",
      "source": [
        "def extract_scores_and_geometry(image,net=model):\n",
        "    # Get the original image dimensions\n",
        "    orig = image.copy()\n",
        "    (H, W) = image.shape[:2]\n",
        "\n",
        "    # Define the new width and height and then calculate the ratio\n",
        "    new_width = 320\n",
        "    new_height = 320\n",
        "    rW = W / float(new_width)\n",
        "    rH = H / float(new_height)\n",
        "\n",
        "    # Resize the image to 320x320\n",
        "    image = cv2.resize(image, (new_width, new_height))\n",
        "\n",
        "    # Define the output layers that we need from the EAST detector\n",
        "    layer_names = [\n",
        "        \"feature_fusion/Conv_7/Sigmoid\",\n",
        "        \"feature_fusion/concat_3\"\n",
        "    ]\n",
        "    # Construct a blob from the image and then perform a forward pass of the model\n",
        "    blob = cv2.dnn.blobFromImage(image, 1.0, (new_width, new_height),\n",
        "                                (123.68, 116.78, 103.94), swapRB=True, crop=False)\n",
        "\n",
        "    # Pass the blob through the network\n",
        "    net.setInput(blob)\n",
        "    (scores, geometry) = net.forward(layer_names)\n",
        "\n",
        "    return (scores, geometry)\n"
      ],
      "metadata": {
        "id": "BDthhj0jJXCZ"
      },
      "execution_count": null,
      "outputs": []
    },
    {
      "cell_type": "code",
      "source": [
        "# Function to decode the predictions\n",
        "def decode_predictions(link, width_expansion_ratio=0.2):\n",
        "\n",
        "    # loding the image from web\n",
        "    image=download_image(link)\n",
        "\n",
        "    # extract scores and geometry\n",
        "    (scores, geometry)=extract_scores_and_geometry(image)\n",
        "\n",
        "\n",
        "    num_rows, num_cols = scores.shape[2:4]\n",
        "    rects = []\n",
        "    confidences = []\n",
        "\n",
        "    for y in range(0, num_rows):\n",
        "        scores_data = scores[0, 0, y]\n",
        "        x_data0 = geometry[0, 0, y]\n",
        "        x_data1 = geometry[0, 1, y]\n",
        "        x_data2 = geometry[0, 2, y]\n",
        "        x_data3 = geometry[0, 3, y]\n",
        "        angles_data = geometry[0, 4, y]\n",
        "\n",
        "        for x in range(0, num_cols):\n",
        "            if scores_data[x] < 0.5:\n",
        "                continue\n",
        "\n",
        "            offset_x, offset_y = (x * 4.0, y * 4.0)\n",
        "            angle = angles_data[x]\n",
        "            cos = np.cos(angle)\n",
        "            sin = np.sin(angle)\n",
        "\n",
        "            h = x_data0[x] + x_data2[x]\n",
        "            w = x_data1[x] + x_data3[x]\n",
        "\n",
        "            end_x = int(offset_x + (cos * x_data1[x]) + (sin * x_data2[x]))\n",
        "            end_y = int(offset_y - (sin * x_data1[x]) + (cos * x_data2[x]))\n",
        "            start_x = int(end_x - w)\n",
        "            start_y = int(end_y - h)\n",
        "\n",
        "            # Increase the length (width) of the box\n",
        "            expand_w = int(w * width_expansion_ratio)\n",
        "            start_x = max(start_x - expand_w, 0)  # Expand leftwards\n",
        "            end_x += expand_w  # Expand rightwards\n",
        "\n",
        "\n",
        "            rects.append((start_x, start_y, end_x, end_y))\n",
        "            confidences.append(float(scores_data[x]))\n",
        "\n",
        "            # extracting box\n",
        "    boxes = cv2.dnn.NMSBoxes(rects, confidences, 0.5, 0.4)\n",
        "    return (rects, confidences,boxes)"
      ],
      "metadata": {
        "id": "eyZlKdF8JZR-"
      },
      "execution_count": null,
      "outputs": []
    },
    {
      "cell_type": "code",
      "source": [
        "def image_with_text_detected(image_link,width_expansion_ratio=0.2):\n",
        "    rects, confidences,boxes =decode_predictions(image_link,width_expansion_ratio)\n",
        "\n",
        "\n",
        "    image=download_image(image_link)\n",
        "    orig = image.copy()\n",
        "    (H, W) = image.shape[:2]\n",
        "\n",
        "    # Define the new width and height and then calculate the ratio\n",
        "    new_width = 320\n",
        "    new_height = 320\n",
        "    rW = W / float(new_width)\n",
        "    rH = H / float(new_height)\n",
        "\n",
        "    croped_images=[]\n",
        "    for i in range(len(boxes)):\n",
        "\n",
        "      (start_x, start_y, end_x, end_y) = rects[boxes[i]]\n",
        "\n",
        "      # Scale the coordinates based on the original image size\n",
        "      start_x = int(start_x * rW)\n",
        "      start_y = int(start_y * rH)\n",
        "      end_x = int(end_x * rW)\n",
        "      end_y = int(end_y * rH)\n",
        "\n",
        "      #croped image\n",
        "      cropped_image = image[start_y:end_y, start_x:end_x]\n",
        "      croped_images.append(cropped_image)\n",
        "\n",
        "      # Draw the bounding box on the image\n",
        "      cv2.rectangle(orig, (start_x, start_y), (end_x, end_y), (0, 255, 0), 2)\n",
        "    return orig,croped_images\n",
        "\n"
      ],
      "metadata": {
        "id": "M5B74rXQJcUM"
      },
      "execution_count": null,
      "outputs": []
    },
    {
      "cell_type": "code",
      "source": [
        "# to predict images string\n",
        "def text_prediction(image_list):\n",
        "\n",
        "\n",
        "    predict_text=''\n",
        "    for i, img in enumerate(image_list):\n",
        "\n",
        "\n",
        "        # Use Tesseract to perform OCR on the cropped image\n",
        "        config = (\"-l eng --oem 1 --psm 6\")  # Adjust the config for optimal recognition\n",
        "        text = pytesseract.image_to_string(img, config=config)\n",
        "        predict_text=predict_text+\" \"+text\n",
        "\n",
        "    return predict_text\n",
        "\n",
        "        # Print the recognized text\n",
        "        # print(f\"Detected Text in Box {i}: {text}\")"
      ],
      "metadata": {
        "id": "T2dIcX9MJhGx"
      },
      "execution_count": null,
      "outputs": []
    },
    {
      "cell_type": "code",
      "source": [
        "def cleaning_text(text):\n",
        "      # print(text)\n",
        "      cleaned_text = re.sub(r'[^\\w\\s.]', ' ', text).replace('\\n', '').replace('\\x0c', '')\n",
        "      cleaned_text = re.sub(r'(\\d)([a-zA-Z])', r'\\1 \\2', cleaned_text)\n",
        "      return cleaned_text"
      ],
      "metadata": {
        "id": "HCA4QMYoMQM-"
      },
      "execution_count": null,
      "outputs": []
    },
    {
      "cell_type": "code",
      "source": [
        "def display_product(image_link):\n",
        "\n",
        "    orignal_image,image_list=image_with_text_detected(image_link)\n",
        "    plt.imshow(orignal_image)\n",
        "    # Calculate the number of rows and columns required for n images\n",
        "    n = len(image_list)\n",
        "    cols = math.ceil(math.sqrt(n))  # Number of columns\n",
        "    rows = math.ceil(n / cols)      # Number of rows\n",
        "\n",
        "    # Create the subplot grid dynamically\n",
        "    fig, axs = plt.subplots(rows, cols, figsize=(15, 15))\n",
        "\n",
        "    # Flatten axs in case it is 2D array (for consistency)\n",
        "    axs = axs.flatten()\n",
        "\n",
        "    # Iterate over the images and display them in the subplots\n",
        "    for i, img in enumerate(image_list):\n",
        "        axs[i].imshow(img)\n",
        "        axs[i].axis('off')  # Hide axis for better visualization\n",
        "\n",
        "    # Hide any remaining empty subplots if n is not a perfect square\n",
        "    for i in range(len(image_list), rows * cols):\n",
        "        axs[i].axis('off')\n",
        "\n",
        "    # Adjust layout to prevent overlap\n",
        "    plt.tight_layout()\n",
        "    plt.show()\n",
        "\n"
      ],
      "metadata": {
        "id": "9r3PiuQiaHwO"
      },
      "execution_count": null,
      "outputs": []
    },
    {
      "cell_type": "code",
      "source": [
        "def display_boxed_text(image_list):\n",
        "\n",
        "\n",
        "\n",
        "      # Calculate the number of rows and columns required for n images\n",
        "      n = len(image_list)\n",
        "      cols = math.ceil(math.sqrt(n))  # Number of columns\n",
        "      rows = math.ceil(n / cols)      # Number of rows\n",
        "\n",
        "      # Create the subplot grid dynamically\n",
        "      fig, axs = plt.subplots(rows, cols, figsize=(15, 15))\n",
        "\n",
        "      # Flatten axs in case it is 2D array (for consistency)\n",
        "      axs = axs.flatten()\n",
        "\n",
        "      # Iterate over the images and display them in the subplots\n",
        "      for i, img in enumerate(image_list):\n",
        "          axs[i].imshow(img)\n",
        "          axs[i].axis('off')  # Hide axis for better visualization\n",
        "\n",
        "      # Hide any remaining empty subplots if n is not a perfect square\n",
        "      for i in range(len(image_list), rows * cols):\n",
        "          axs[i].axis('off')\n",
        "\n",
        "      # Adjust layout to prevent overlap\n",
        "      plt.tight_layout()\n",
        "      plt.show()"
      ],
      "metadata": {
        "id": "7_-x6e3LZWAw"
      },
      "execution_count": null,
      "outputs": []
    },
    {
      "cell_type": "code",
      "source": [
        "def image_to_text(image_link,length_inc=0.2):\n",
        "\n",
        "  # croped_images\n",
        "  orignal_image,croped_images=image_with_text_detected(image_link,length_inc)\n",
        "\n",
        "  #predict text\n",
        "  text=text_prediction(croped_images)\n",
        "\n",
        "  # cleaning text\n",
        "  clean_text=cleaning_text(text)\n",
        "\n",
        "  return clean_text"
      ],
      "metadata": {
        "id": "XTyy1BSpJ74Q"
      },
      "execution_count": null,
      "outputs": []
    },
    {
      "cell_type": "code",
      "source": [
        "# image_to_text(\"https://m.media-amazon.com/images/I/61BZ4zrjZXL.jpg\")"
      ],
      "metadata": {
        "id": "e_cagNB7Kxp-"
      },
      "execution_count": null,
      "outputs": []
    },
    {
      "cell_type": "code",
      "source": [
        "# display_product(\"https://m.media-amazon.com/images/I/71XK5d3Oh9L.jpg\")"
      ],
      "metadata": {
        "id": "Vbqv6oIXZpZH"
      },
      "execution_count": null,
      "outputs": []
    },
    {
      "cell_type": "code",
      "source": [
        "def extract_numbers(text):\n",
        "    # Define the regex pattern for measurements and units\n",
        "    pattern = r'\\b\\d+(?:\\.\\d+)?\\s*[a-zA-Z]+\\b'\n",
        "\n",
        "    # Find all matches in the text\n",
        "    measurements = re.findall(pattern, text)\n",
        "\n",
        "    return measurements"
      ],
      "metadata": {
        "id": "UalvHKpdQR8c"
      },
      "execution_count": null,
      "outputs": []
    },
    {
      "cell_type": "code",
      "source": [],
      "metadata": {
        "id": "VDMm6WH7Jfyt"
      },
      "execution_count": null,
      "outputs": []
    },
    {
      "cell_type": "code",
      "source": [
        "def check_unit(lst,units):\n",
        "  for st in lst:\n",
        "    sp=st.split(\" \")\n",
        "    for i  in sp:\n",
        "      if i in weight_units:\n",
        "        return(st)\n"
      ],
      "metadata": {
        "id": "jYbu3icRRhqz"
      },
      "execution_count": null,
      "outputs": []
    },
    {
      "cell_type": "code",
      "source": [
        "def unit_in_image(link,unit_list):\n",
        "  # extract text from image\n",
        "  text=image_to_text(link)+\" /n \"\n",
        "  # extracting number with there corespoding word\n",
        "  lst=extract_numbers(text)\n",
        "  # extarct units\n",
        "  un=check_unit(lst,unit_list)\n",
        "\n",
        "  return un\n",
        "\n"
      ],
      "metadata": {
        "id": "EccMOOpIR_lM"
      },
      "execution_count": null,
      "outputs": []
    },
    {
      "cell_type": "code",
      "source": [
        "unit_in_image(\"https://m.media-amazon.com/images/I/814sAvV89SL.jpg\",unit_list=weight_units)"
      ],
      "metadata": {
        "colab": {
          "base_uri": "https://localhost:8080/",
          "height": 36
        },
        "id": "aM4-CsUyTnaJ",
        "outputId": "84699bdc-4b2e-4170-c8f0-3996b79784f0"
      },
      "execution_count": null,
      "outputs": [
        {
          "output_type": "execute_result",
          "data": {
            "text/plain": [
              "'39 g'"
            ],
            "application/vnd.google.colaboratory.intrinsic+json": {
              "type": "string"
            }
          },
          "metadata": {},
          "execution_count": 105
        }
      ]
    },
    {
      "cell_type": "code",
      "source": [
        "import pandas as pd"
      ],
      "metadata": {
        "id": "bqqh2uzfK5nd"
      },
      "execution_count": null,
      "outputs": []
    },
    {
      "cell_type": "code",
      "source": [
        "data=pd.read_csv(\"test.csv\")"
      ],
      "metadata": {
        "id": "quub0jVVNvcU"
      },
      "execution_count": null,
      "outputs": []
    },
    {
      "cell_type": "code",
      "source": [
        "# top10=data.head(100)"
      ],
      "metadata": {
        "id": "UJJYsNJlPuFG"
      },
      "execution_count": null,
      "outputs": []
    },
    {
      "cell_type": "code",
      "source": [
        "# top10"
      ],
      "metadata": {
        "id": "4Jb7B_PIPyQk"
      },
      "execution_count": null,
      "outputs": []
    },
    {
      "cell_type": "code",
      "source": [
        "weight_units = ['mg', 'cg', 'dg', 'g', 'dag', 'hg', 'kg', 't', 'oz', 'lb', 'st', 'ton', 'long ton', 'mcg','milligram', 'centigram', 'decigram', 'gram', 'decagram', 'hectogram', 'kilogram', 'tonne', 'ounce', 'pound', 'stone', 'short ton', 'long ton', 'microgram']\n",
        "# weight_units_full_form = ['milligram', 'centigram', 'decigram', 'gram', 'decagram', 'hectogram', 'kilogram', 'tonne', 'ounce', 'pound', 'stone', 'short ton', 'long ton', 'microgram']\n",
        "volume_units = ['ml', 'cl', 'dl', 'l', 'dal', 'hl', 'kl', 'cubic cm', 'cubic m', 'cup', 'pt', 'qt', 'gal', 'fluid oz', 'teaspoon', 'tablespoon', 'milliliter', 'centiliter', 'deciliter', 'liter', 'decaliter', 'hectoliter', 'kiloliter', 'cubic centimeter', 'cubic meter', 'cup', 'pint', 'quart', 'gallon', 'fluid ounce', 'tsp', 'tbsp']\n",
        "wattage_units = ['μW', 'mW', 'W', 'kW', 'MW', 'GW', 'TW', 'microWatt', 'milliWatt', 'Watt', 'kiloWatt', 'MegaWatt', 'GigaWatt', 'TeraWatt']\n",
        "voltage_units = ['μV', 'mV', 'V', 'kV', 'megavolt', 'microvolt', 'millivolt', 'volt', 'kilovolt', 'MV']\n",
        "maximum_weight_recommendation_units = ['mg', 'g', 'kg', 't', 'lb', 'st', 'ton', 'long ton', 'short ton', 'milligram', 'gram', 'kilogram', 'tonne', 'pound', 'stone', 'metric ton', 'long ton', 'short ton']\n",
        "dimension_units_for_h_d_w = ['mm', 'cm', 'dm', 'm', 'km', 'in', 'ft', 'yd', 'mi', 'millimeter', 'centimeter', 'decimeter', 'meter', 'kilometer', 'inch', 'foot', 'yard', 'mile']\n"
      ],
      "metadata": {
        "id": "hqni6M4uJj_-"
      },
      "execution_count": null,
      "outputs": []
    },
    {
      "cell_type": "code",
      "source": [
        "# ['item_weight' 'item_volume' 'voltage' 'wattage'\n",
        "#  'maximum_weight_recommendation' 'height' 'depth' 'width']\n",
        "def printdf(row):\n",
        "\n",
        "  link=row.get(\"image_link\")\n",
        "  entity_name=row.get(\"entity_name\")\n",
        "\n",
        "\n",
        "  if entity_name=='item_weight':\n",
        "    return(unit_in_image(link,unit_list=weight_units))\n",
        "\n",
        "    pass\n",
        "  elif entity_name=='item_volume':\n",
        "    return(unit_in_image(link,unit_list=volume_units))\n",
        "    pass\n",
        "  elif entity_name=='voltage':\n",
        "    return(unit_in_image(link,unit_list=voltage_units))\n",
        "    pass\n",
        "  elif entity_name=='wattage':\n",
        "    return(unit_in_image(link,unit_list=wattage_units))\n",
        "    pass\n",
        "  elif entity_name=='maximum_weight_recommendation':\n",
        "    return(unit_in_image(link,unit_list=maximum_weight_recommendation_units))\n",
        "    pass\n",
        "  elif entity_name=='height':\n",
        "    return(unit_in_image(link,unit_list=dimension_units_for_h_d_w))\n",
        "    pass\n",
        "  elif entity_name=='depth':\n",
        "    return(unit_in_image(link,unit_list=dimension_units_for_h_d_w))\n",
        "    pass\n",
        "  elif entity_name=='width':\n",
        "    return(unit_in_image(link,unit_list=dimension_units_for_h_d_w))\n",
        "    pass\n",
        "\n",
        "\n"
      ],
      "metadata": {
        "id": "Pxq4AZdZQBJl"
      },
      "execution_count": null,
      "outputs": []
    },
    {
      "cell_type": "code",
      "source": [
        "from tqdm import tqdm"
      ],
      "metadata": {
        "id": "CHEH90iDfMB1"
      },
      "execution_count": null,
      "outputs": []
    },
    {
      "cell_type": "code",
      "source": [
        "lst=[]\n",
        "# top10.apply(printdf,axis=1)\n",
        "\n",
        "for index, row in tqdm(data.iterrows(), total=data.shape[0]):\n",
        "    lst.append(printdf(row))"
      ],
      "metadata": {
        "colab": {
          "base_uri": "https://localhost:8080/",
          "height": 339
        },
        "id": "Zb8tXW1eT6D7",
        "outputId": "34bcc9ec-3985-440e-97ff-532f424dd9b9"
      },
      "execution_count": null,
      "outputs": [
        {
          "output_type": "stream",
          "name": "stderr",
          "text": [
            "  0%|          | 108/131187 [01:25<28:53:36,  1.26it/s]\n"
          ]
        },
        {
          "output_type": "error",
          "ename": "KeyboardInterrupt",
          "evalue": "",
          "traceback": [
            "\u001b[0;31m---------------------------------------------------------------------------\u001b[0m",
            "\u001b[0;31mKeyboardInterrupt\u001b[0m                         Traceback (most recent call last)",
            "\u001b[0;32m<ipython-input-165-a022fa35cabc>\u001b[0m in \u001b[0;36m<cell line: 4>\u001b[0;34m()\u001b[0m\n\u001b[1;32m      3\u001b[0m \u001b[0;34m\u001b[0m\u001b[0m\n\u001b[1;32m      4\u001b[0m \u001b[0;32mfor\u001b[0m \u001b[0mindex\u001b[0m\u001b[0;34m,\u001b[0m \u001b[0mrow\u001b[0m \u001b[0;32min\u001b[0m \u001b[0mtqdm\u001b[0m\u001b[0;34m(\u001b[0m\u001b[0mdata\u001b[0m\u001b[0;34m.\u001b[0m\u001b[0miterrows\u001b[0m\u001b[0;34m(\u001b[0m\u001b[0;34m)\u001b[0m\u001b[0;34m,\u001b[0m \u001b[0mtotal\u001b[0m\u001b[0;34m=\u001b[0m\u001b[0mdata\u001b[0m\u001b[0;34m.\u001b[0m\u001b[0mshape\u001b[0m\u001b[0;34m[\u001b[0m\u001b[0;36m0\u001b[0m\u001b[0;34m]\u001b[0m\u001b[0;34m)\u001b[0m\u001b[0;34m:\u001b[0m\u001b[0;34m\u001b[0m\u001b[0;34m\u001b[0m\u001b[0m\n\u001b[0;32m----> 5\u001b[0;31m     \u001b[0mlst\u001b[0m\u001b[0;34m.\u001b[0m\u001b[0mappend\u001b[0m\u001b[0;34m(\u001b[0m\u001b[0mprintdf\u001b[0m\u001b[0;34m(\u001b[0m\u001b[0mrow\u001b[0m\u001b[0;34m)\u001b[0m\u001b[0;34m)\u001b[0m\u001b[0;34m\u001b[0m\u001b[0;34m\u001b[0m\u001b[0m\n\u001b[0m",
            "\u001b[0;32m<ipython-input-155-d58a2685708d>\u001b[0m in \u001b[0;36mprintdf\u001b[0;34m(row)\u001b[0m\n\u001b[1;32m      8\u001b[0m \u001b[0;34m\u001b[0m\u001b[0m\n\u001b[1;32m      9\u001b[0m   \u001b[0;32mif\u001b[0m \u001b[0mentity_name\u001b[0m\u001b[0;34m==\u001b[0m\u001b[0;34m'item_weight'\u001b[0m\u001b[0;34m:\u001b[0m\u001b[0;34m\u001b[0m\u001b[0;34m\u001b[0m\u001b[0m\n\u001b[0;32m---> 10\u001b[0;31m     \u001b[0;32mreturn\u001b[0m\u001b[0;34m(\u001b[0m\u001b[0munit_in_image\u001b[0m\u001b[0;34m(\u001b[0m\u001b[0mlink\u001b[0m\u001b[0;34m,\u001b[0m\u001b[0munit_list\u001b[0m\u001b[0;34m=\u001b[0m\u001b[0mweight_units\u001b[0m\u001b[0;34m)\u001b[0m\u001b[0;34m)\u001b[0m\u001b[0;34m\u001b[0m\u001b[0;34m\u001b[0m\u001b[0m\n\u001b[0m\u001b[1;32m     11\u001b[0m \u001b[0;34m\u001b[0m\u001b[0m\n\u001b[1;32m     12\u001b[0m     \u001b[0;32mpass\u001b[0m\u001b[0;34m\u001b[0m\u001b[0;34m\u001b[0m\u001b[0m\n",
            "\u001b[0;32m<ipython-input-104-251d80d338a5>\u001b[0m in \u001b[0;36munit_in_image\u001b[0;34m(link, unit_list)\u001b[0m\n\u001b[1;32m      1\u001b[0m \u001b[0;32mdef\u001b[0m \u001b[0munit_in_image\u001b[0m\u001b[0;34m(\u001b[0m\u001b[0mlink\u001b[0m\u001b[0;34m,\u001b[0m\u001b[0munit_list\u001b[0m\u001b[0;34m)\u001b[0m\u001b[0;34m:\u001b[0m\u001b[0;34m\u001b[0m\u001b[0;34m\u001b[0m\u001b[0m\n\u001b[1;32m      2\u001b[0m   \u001b[0;31m# extract text from image\u001b[0m\u001b[0;34m\u001b[0m\u001b[0;34m\u001b[0m\u001b[0m\n\u001b[0;32m----> 3\u001b[0;31m   \u001b[0mtext\u001b[0m\u001b[0;34m=\u001b[0m\u001b[0mimage_to_text\u001b[0m\u001b[0;34m(\u001b[0m\u001b[0mlink\u001b[0m\u001b[0;34m)\u001b[0m\u001b[0;34m+\u001b[0m\u001b[0;34m\" /n \"\u001b[0m\u001b[0;34m\u001b[0m\u001b[0;34m\u001b[0m\u001b[0m\n\u001b[0m\u001b[1;32m      4\u001b[0m   \u001b[0;31m# extracting number with there corespoding word\u001b[0m\u001b[0;34m\u001b[0m\u001b[0;34m\u001b[0m\u001b[0m\n\u001b[1;32m      5\u001b[0m   \u001b[0mlst\u001b[0m\u001b[0;34m=\u001b[0m\u001b[0mextract_numbers\u001b[0m\u001b[0;34m(\u001b[0m\u001b[0mtext\u001b[0m\u001b[0;34m)\u001b[0m\u001b[0;34m\u001b[0m\u001b[0;34m\u001b[0m\u001b[0m\n",
            "\u001b[0;32m<ipython-input-58-5b4db65ad776>\u001b[0m in \u001b[0;36mimage_to_text\u001b[0;34m(image_link, length_inc)\u001b[0m\n\u001b[1;32m      5\u001b[0m \u001b[0;34m\u001b[0m\u001b[0m\n\u001b[1;32m      6\u001b[0m   \u001b[0;31m#predict text\u001b[0m\u001b[0;34m\u001b[0m\u001b[0;34m\u001b[0m\u001b[0m\n\u001b[0;32m----> 7\u001b[0;31m   \u001b[0mtext\u001b[0m\u001b[0;34m=\u001b[0m\u001b[0mtext_prediction\u001b[0m\u001b[0;34m(\u001b[0m\u001b[0mcroped_images\u001b[0m\u001b[0;34m)\u001b[0m\u001b[0;34m\u001b[0m\u001b[0;34m\u001b[0m\u001b[0m\n\u001b[0m\u001b[1;32m      8\u001b[0m \u001b[0;34m\u001b[0m\u001b[0m\n\u001b[1;32m      9\u001b[0m   \u001b[0;31m# cleaning text\u001b[0m\u001b[0;34m\u001b[0m\u001b[0;34m\u001b[0m\u001b[0m\n",
            "\u001b[0;32m<ipython-input-54-38746fce623c>\u001b[0m in \u001b[0;36mtext_prediction\u001b[0;34m(image_list)\u001b[0m\n\u001b[1;32m      9\u001b[0m         \u001b[0;31m# Use Tesseract to perform OCR on the cropped image\u001b[0m\u001b[0;34m\u001b[0m\u001b[0;34m\u001b[0m\u001b[0m\n\u001b[1;32m     10\u001b[0m         \u001b[0mconfig\u001b[0m \u001b[0;34m=\u001b[0m \u001b[0;34m(\u001b[0m\u001b[0;34m\"-l eng --oem 1 --psm 6\"\u001b[0m\u001b[0;34m)\u001b[0m  \u001b[0;31m# Adjust the config for optimal recognition\u001b[0m\u001b[0;34m\u001b[0m\u001b[0;34m\u001b[0m\u001b[0m\n\u001b[0;32m---> 11\u001b[0;31m         \u001b[0mtext\u001b[0m \u001b[0;34m=\u001b[0m \u001b[0mpytesseract\u001b[0m\u001b[0;34m.\u001b[0m\u001b[0mimage_to_string\u001b[0m\u001b[0;34m(\u001b[0m\u001b[0mimg\u001b[0m\u001b[0;34m,\u001b[0m \u001b[0mconfig\u001b[0m\u001b[0;34m=\u001b[0m\u001b[0mconfig\u001b[0m\u001b[0;34m)\u001b[0m\u001b[0;34m\u001b[0m\u001b[0;34m\u001b[0m\u001b[0m\n\u001b[0m\u001b[1;32m     12\u001b[0m         \u001b[0mpredict_text\u001b[0m\u001b[0;34m=\u001b[0m\u001b[0mpredict_text\u001b[0m\u001b[0;34m+\u001b[0m\u001b[0;34m\" \"\u001b[0m\u001b[0;34m+\u001b[0m\u001b[0mtext\u001b[0m\u001b[0;34m\u001b[0m\u001b[0;34m\u001b[0m\u001b[0m\n\u001b[1;32m     13\u001b[0m \u001b[0;34m\u001b[0m\u001b[0m\n",
            "\u001b[0;32m/usr/local/lib/python3.10/dist-packages/pytesseract/pytesseract.py\u001b[0m in \u001b[0;36mimage_to_string\u001b[0;34m(image, lang, config, nice, output_type, timeout)\u001b[0m\n\u001b[1;32m    484\u001b[0m     \u001b[0margs\u001b[0m \u001b[0;34m=\u001b[0m \u001b[0;34m[\u001b[0m\u001b[0mimage\u001b[0m\u001b[0;34m,\u001b[0m \u001b[0;34m'txt'\u001b[0m\u001b[0;34m,\u001b[0m \u001b[0mlang\u001b[0m\u001b[0;34m,\u001b[0m \u001b[0mconfig\u001b[0m\u001b[0;34m,\u001b[0m \u001b[0mnice\u001b[0m\u001b[0;34m,\u001b[0m \u001b[0mtimeout\u001b[0m\u001b[0;34m]\u001b[0m\u001b[0;34m\u001b[0m\u001b[0;34m\u001b[0m\u001b[0m\n\u001b[1;32m    485\u001b[0m \u001b[0;34m\u001b[0m\u001b[0m\n\u001b[0;32m--> 486\u001b[0;31m     return {\n\u001b[0m\u001b[1;32m    487\u001b[0m         \u001b[0mOutput\u001b[0m\u001b[0;34m.\u001b[0m\u001b[0mBYTES\u001b[0m\u001b[0;34m:\u001b[0m \u001b[0;32mlambda\u001b[0m\u001b[0;34m:\u001b[0m \u001b[0mrun_and_get_output\u001b[0m\u001b[0;34m(\u001b[0m\u001b[0;34m*\u001b[0m\u001b[0;34m(\u001b[0m\u001b[0margs\u001b[0m \u001b[0;34m+\u001b[0m \u001b[0;34m[\u001b[0m\u001b[0;32mTrue\u001b[0m\u001b[0;34m]\u001b[0m\u001b[0;34m)\u001b[0m\u001b[0;34m)\u001b[0m\u001b[0;34m,\u001b[0m\u001b[0;34m\u001b[0m\u001b[0;34m\u001b[0m\u001b[0m\n\u001b[1;32m    488\u001b[0m         \u001b[0mOutput\u001b[0m\u001b[0;34m.\u001b[0m\u001b[0mDICT\u001b[0m\u001b[0;34m:\u001b[0m \u001b[0;32mlambda\u001b[0m\u001b[0;34m:\u001b[0m \u001b[0;34m{\u001b[0m\u001b[0;34m'text'\u001b[0m\u001b[0;34m:\u001b[0m \u001b[0mrun_and_get_output\u001b[0m\u001b[0;34m(\u001b[0m\u001b[0;34m*\u001b[0m\u001b[0margs\u001b[0m\u001b[0;34m)\u001b[0m\u001b[0;34m}\u001b[0m\u001b[0;34m,\u001b[0m\u001b[0;34m\u001b[0m\u001b[0;34m\u001b[0m\u001b[0m\n",
            "\u001b[0;32m/usr/local/lib/python3.10/dist-packages/pytesseract/pytesseract.py\u001b[0m in \u001b[0;36m<lambda>\u001b[0;34m()\u001b[0m\n\u001b[1;32m    487\u001b[0m         \u001b[0mOutput\u001b[0m\u001b[0;34m.\u001b[0m\u001b[0mBYTES\u001b[0m\u001b[0;34m:\u001b[0m \u001b[0;32mlambda\u001b[0m\u001b[0;34m:\u001b[0m \u001b[0mrun_and_get_output\u001b[0m\u001b[0;34m(\u001b[0m\u001b[0;34m*\u001b[0m\u001b[0;34m(\u001b[0m\u001b[0margs\u001b[0m \u001b[0;34m+\u001b[0m \u001b[0;34m[\u001b[0m\u001b[0;32mTrue\u001b[0m\u001b[0;34m]\u001b[0m\u001b[0;34m)\u001b[0m\u001b[0;34m)\u001b[0m\u001b[0;34m,\u001b[0m\u001b[0;34m\u001b[0m\u001b[0;34m\u001b[0m\u001b[0m\n\u001b[1;32m    488\u001b[0m         \u001b[0mOutput\u001b[0m\u001b[0;34m.\u001b[0m\u001b[0mDICT\u001b[0m\u001b[0;34m:\u001b[0m \u001b[0;32mlambda\u001b[0m\u001b[0;34m:\u001b[0m \u001b[0;34m{\u001b[0m\u001b[0;34m'text'\u001b[0m\u001b[0;34m:\u001b[0m \u001b[0mrun_and_get_output\u001b[0m\u001b[0;34m(\u001b[0m\u001b[0;34m*\u001b[0m\u001b[0margs\u001b[0m\u001b[0;34m)\u001b[0m\u001b[0;34m}\u001b[0m\u001b[0;34m,\u001b[0m\u001b[0;34m\u001b[0m\u001b[0;34m\u001b[0m\u001b[0m\n\u001b[0;32m--> 489\u001b[0;31m         \u001b[0mOutput\u001b[0m\u001b[0;34m.\u001b[0m\u001b[0mSTRING\u001b[0m\u001b[0;34m:\u001b[0m \u001b[0;32mlambda\u001b[0m\u001b[0;34m:\u001b[0m \u001b[0mrun_and_get_output\u001b[0m\u001b[0;34m(\u001b[0m\u001b[0;34m*\u001b[0m\u001b[0margs\u001b[0m\u001b[0;34m)\u001b[0m\u001b[0;34m,\u001b[0m\u001b[0;34m\u001b[0m\u001b[0;34m\u001b[0m\u001b[0m\n\u001b[0m\u001b[1;32m    490\u001b[0m     }[output_type]()\n\u001b[1;32m    491\u001b[0m \u001b[0;34m\u001b[0m\u001b[0m\n",
            "\u001b[0;32m/usr/local/lib/python3.10/dist-packages/pytesseract/pytesseract.py\u001b[0m in \u001b[0;36mrun_and_get_output\u001b[0;34m(image, extension, lang, config, nice, timeout, return_bytes)\u001b[0m\n\u001b[1;32m    350\u001b[0m         }\n\u001b[1;32m    351\u001b[0m \u001b[0;34m\u001b[0m\u001b[0m\n\u001b[0;32m--> 352\u001b[0;31m         \u001b[0mrun_tesseract\u001b[0m\u001b[0;34m(\u001b[0m\u001b[0;34m**\u001b[0m\u001b[0mkwargs\u001b[0m\u001b[0;34m)\u001b[0m\u001b[0;34m\u001b[0m\u001b[0;34m\u001b[0m\u001b[0m\n\u001b[0m\u001b[1;32m    353\u001b[0m         return _read_output(\n\u001b[1;32m    354\u001b[0m             \u001b[0;34mf\"{kwargs['output_filename_base']}{extsep}{extension}\"\u001b[0m\u001b[0;34m,\u001b[0m\u001b[0;34m\u001b[0m\u001b[0;34m\u001b[0m\u001b[0m\n",
            "\u001b[0;32m/usr/local/lib/python3.10/dist-packages/pytesseract/pytesseract.py\u001b[0m in \u001b[0;36mrun_tesseract\u001b[0;34m(input_filename, output_filename_base, extension, lang, config, nice, timeout)\u001b[0m\n\u001b[1;32m    280\u001b[0m             \u001b[0;32mraise\u001b[0m \u001b[0mTesseractNotFoundError\u001b[0m\u001b[0;34m(\u001b[0m\u001b[0;34m)\u001b[0m\u001b[0;34m\u001b[0m\u001b[0;34m\u001b[0m\u001b[0m\n\u001b[1;32m    281\u001b[0m \u001b[0;34m\u001b[0m\u001b[0m\n\u001b[0;32m--> 282\u001b[0;31m     \u001b[0;32mwith\u001b[0m \u001b[0mtimeout_manager\u001b[0m\u001b[0;34m(\u001b[0m\u001b[0mproc\u001b[0m\u001b[0;34m,\u001b[0m \u001b[0mtimeout\u001b[0m\u001b[0;34m)\u001b[0m \u001b[0;32mas\u001b[0m \u001b[0merror_string\u001b[0m\u001b[0;34m:\u001b[0m\u001b[0;34m\u001b[0m\u001b[0;34m\u001b[0m\u001b[0m\n\u001b[0m\u001b[1;32m    283\u001b[0m         \u001b[0;32mif\u001b[0m \u001b[0mproc\u001b[0m\u001b[0;34m.\u001b[0m\u001b[0mreturncode\u001b[0m\u001b[0;34m:\u001b[0m\u001b[0;34m\u001b[0m\u001b[0;34m\u001b[0m\u001b[0m\n\u001b[1;32m    284\u001b[0m             \u001b[0;32mraise\u001b[0m \u001b[0mTesseractError\u001b[0m\u001b[0;34m(\u001b[0m\u001b[0mproc\u001b[0m\u001b[0;34m.\u001b[0m\u001b[0mreturncode\u001b[0m\u001b[0;34m,\u001b[0m \u001b[0mget_errors\u001b[0m\u001b[0;34m(\u001b[0m\u001b[0merror_string\u001b[0m\u001b[0;34m)\u001b[0m\u001b[0;34m)\u001b[0m\u001b[0;34m\u001b[0m\u001b[0;34m\u001b[0m\u001b[0m\n",
            "\u001b[0;32m/usr/lib/python3.10/contextlib.py\u001b[0m in \u001b[0;36m__enter__\u001b[0;34m(self)\u001b[0m\n\u001b[1;32m    133\u001b[0m         \u001b[0;32mdel\u001b[0m \u001b[0mself\u001b[0m\u001b[0;34m.\u001b[0m\u001b[0margs\u001b[0m\u001b[0;34m,\u001b[0m \u001b[0mself\u001b[0m\u001b[0;34m.\u001b[0m\u001b[0mkwds\u001b[0m\u001b[0;34m,\u001b[0m \u001b[0mself\u001b[0m\u001b[0;34m.\u001b[0m\u001b[0mfunc\u001b[0m\u001b[0;34m\u001b[0m\u001b[0;34m\u001b[0m\u001b[0m\n\u001b[1;32m    134\u001b[0m         \u001b[0;32mtry\u001b[0m\u001b[0;34m:\u001b[0m\u001b[0;34m\u001b[0m\u001b[0;34m\u001b[0m\u001b[0m\n\u001b[0;32m--> 135\u001b[0;31m             \u001b[0;32mreturn\u001b[0m \u001b[0mnext\u001b[0m\u001b[0;34m(\u001b[0m\u001b[0mself\u001b[0m\u001b[0;34m.\u001b[0m\u001b[0mgen\u001b[0m\u001b[0;34m)\u001b[0m\u001b[0;34m\u001b[0m\u001b[0;34m\u001b[0m\u001b[0m\n\u001b[0m\u001b[1;32m    136\u001b[0m         \u001b[0;32mexcept\u001b[0m \u001b[0mStopIteration\u001b[0m\u001b[0;34m:\u001b[0m\u001b[0;34m\u001b[0m\u001b[0;34m\u001b[0m\u001b[0m\n\u001b[1;32m    137\u001b[0m             \u001b[0;32mraise\u001b[0m \u001b[0mRuntimeError\u001b[0m\u001b[0;34m(\u001b[0m\u001b[0;34m\"generator didn't yield\"\u001b[0m\u001b[0;34m)\u001b[0m \u001b[0;32mfrom\u001b[0m \u001b[0;32mNone\u001b[0m\u001b[0;34m\u001b[0m\u001b[0;34m\u001b[0m\u001b[0m\n",
            "\u001b[0;32m/usr/local/lib/python3.10/dist-packages/pytesseract/pytesseract.py\u001b[0m in \u001b[0;36mtimeout_manager\u001b[0;34m(proc, seconds)\u001b[0m\n\u001b[1;32m    142\u001b[0m     \u001b[0;32mtry\u001b[0m\u001b[0;34m:\u001b[0m\u001b[0;34m\u001b[0m\u001b[0;34m\u001b[0m\u001b[0m\n\u001b[1;32m    143\u001b[0m         \u001b[0;32mif\u001b[0m \u001b[0;32mnot\u001b[0m \u001b[0mseconds\u001b[0m\u001b[0;34m:\u001b[0m\u001b[0;34m\u001b[0m\u001b[0;34m\u001b[0m\u001b[0m\n\u001b[0;32m--> 144\u001b[0;31m             \u001b[0;32myield\u001b[0m \u001b[0mproc\u001b[0m\u001b[0;34m.\u001b[0m\u001b[0mcommunicate\u001b[0m\u001b[0;34m(\u001b[0m\u001b[0;34m)\u001b[0m\u001b[0;34m[\u001b[0m\u001b[0;36m1\u001b[0m\u001b[0;34m]\u001b[0m\u001b[0;34m\u001b[0m\u001b[0;34m\u001b[0m\u001b[0m\n\u001b[0m\u001b[1;32m    145\u001b[0m             \u001b[0;32mreturn\u001b[0m\u001b[0;34m\u001b[0m\u001b[0;34m\u001b[0m\u001b[0m\n\u001b[1;32m    146\u001b[0m \u001b[0;34m\u001b[0m\u001b[0m\n",
            "\u001b[0;32m/usr/lib/python3.10/subprocess.py\u001b[0m in \u001b[0;36mcommunicate\u001b[0;34m(self, input, timeout)\u001b[0m\n\u001b[1;32m   1152\u001b[0m \u001b[0;34m\u001b[0m\u001b[0m\n\u001b[1;32m   1153\u001b[0m             \u001b[0;32mtry\u001b[0m\u001b[0;34m:\u001b[0m\u001b[0;34m\u001b[0m\u001b[0;34m\u001b[0m\u001b[0m\n\u001b[0;32m-> 1154\u001b[0;31m                 \u001b[0mstdout\u001b[0m\u001b[0;34m,\u001b[0m \u001b[0mstderr\u001b[0m \u001b[0;34m=\u001b[0m \u001b[0mself\u001b[0m\u001b[0;34m.\u001b[0m\u001b[0m_communicate\u001b[0m\u001b[0;34m(\u001b[0m\u001b[0minput\u001b[0m\u001b[0;34m,\u001b[0m \u001b[0mendtime\u001b[0m\u001b[0;34m,\u001b[0m \u001b[0mtimeout\u001b[0m\u001b[0;34m)\u001b[0m\u001b[0;34m\u001b[0m\u001b[0;34m\u001b[0m\u001b[0m\n\u001b[0m\u001b[1;32m   1155\u001b[0m             \u001b[0;32mexcept\u001b[0m \u001b[0mKeyboardInterrupt\u001b[0m\u001b[0;34m:\u001b[0m\u001b[0;34m\u001b[0m\u001b[0;34m\u001b[0m\u001b[0m\n\u001b[1;32m   1156\u001b[0m                 \u001b[0;31m# https://bugs.python.org/issue25942\u001b[0m\u001b[0;34m\u001b[0m\u001b[0;34m\u001b[0m\u001b[0m\n",
            "\u001b[0;32m/usr/lib/python3.10/subprocess.py\u001b[0m in \u001b[0;36m_communicate\u001b[0;34m(self, input, endtime, orig_timeout)\u001b[0m\n\u001b[1;32m   2019\u001b[0m                             'failed to raise TimeoutExpired.')\n\u001b[1;32m   2020\u001b[0m \u001b[0;34m\u001b[0m\u001b[0m\n\u001b[0;32m-> 2021\u001b[0;31m                     \u001b[0mready\u001b[0m \u001b[0;34m=\u001b[0m \u001b[0mselector\u001b[0m\u001b[0;34m.\u001b[0m\u001b[0mselect\u001b[0m\u001b[0;34m(\u001b[0m\u001b[0mtimeout\u001b[0m\u001b[0;34m)\u001b[0m\u001b[0;34m\u001b[0m\u001b[0;34m\u001b[0m\u001b[0m\n\u001b[0m\u001b[1;32m   2022\u001b[0m                     \u001b[0mself\u001b[0m\u001b[0;34m.\u001b[0m\u001b[0m_check_timeout\u001b[0m\u001b[0;34m(\u001b[0m\u001b[0mendtime\u001b[0m\u001b[0;34m,\u001b[0m \u001b[0morig_timeout\u001b[0m\u001b[0;34m,\u001b[0m \u001b[0mstdout\u001b[0m\u001b[0;34m,\u001b[0m \u001b[0mstderr\u001b[0m\u001b[0;34m)\u001b[0m\u001b[0;34m\u001b[0m\u001b[0;34m\u001b[0m\u001b[0m\n\u001b[1;32m   2023\u001b[0m \u001b[0;34m\u001b[0m\u001b[0m\n",
            "\u001b[0;32m/usr/lib/python3.10/selectors.py\u001b[0m in \u001b[0;36mselect\u001b[0;34m(self, timeout)\u001b[0m\n\u001b[1;32m    414\u001b[0m         \u001b[0mready\u001b[0m \u001b[0;34m=\u001b[0m \u001b[0;34m[\u001b[0m\u001b[0;34m]\u001b[0m\u001b[0;34m\u001b[0m\u001b[0;34m\u001b[0m\u001b[0m\n\u001b[1;32m    415\u001b[0m         \u001b[0;32mtry\u001b[0m\u001b[0;34m:\u001b[0m\u001b[0;34m\u001b[0m\u001b[0;34m\u001b[0m\u001b[0m\n\u001b[0;32m--> 416\u001b[0;31m             \u001b[0mfd_event_list\u001b[0m \u001b[0;34m=\u001b[0m \u001b[0mself\u001b[0m\u001b[0;34m.\u001b[0m\u001b[0m_selector\u001b[0m\u001b[0;34m.\u001b[0m\u001b[0mpoll\u001b[0m\u001b[0;34m(\u001b[0m\u001b[0mtimeout\u001b[0m\u001b[0;34m)\u001b[0m\u001b[0;34m\u001b[0m\u001b[0;34m\u001b[0m\u001b[0m\n\u001b[0m\u001b[1;32m    417\u001b[0m         \u001b[0;32mexcept\u001b[0m \u001b[0mInterruptedError\u001b[0m\u001b[0;34m:\u001b[0m\u001b[0;34m\u001b[0m\u001b[0;34m\u001b[0m\u001b[0m\n\u001b[1;32m    418\u001b[0m             \u001b[0;32mreturn\u001b[0m \u001b[0mready\u001b[0m\u001b[0;34m\u001b[0m\u001b[0;34m\u001b[0m\u001b[0m\n",
            "\u001b[0;31mKeyboardInterrupt\u001b[0m: "
          ]
        }
      ]
    },
    {
      "cell_type": "code",
      "source": [
        "pre=pd.DataFrame(data=lst,columns=[\"predict entity_value\"])"
      ],
      "metadata": {
        "id": "J52OQ8hJXJdE"
      },
      "execution_count": null,
      "outputs": []
    },
    {
      "cell_type": "code",
      "source": [
        "pre.isnull().sum()"
      ],
      "metadata": {
        "colab": {
          "base_uri": "https://localhost:8080/",
          "height": 115
        },
        "id": "n09hdHIDdWPk",
        "outputId": "d7da7f6c-f8fd-4f54-ebea-9bbe9bb96d2a"
      },
      "execution_count": null,
      "outputs": [
        {
          "output_type": "execute_result",
          "data": {
            "text/plain": [
              "predict entity_value    108\n",
              "dtype: int64"
            ],
            "text/html": [
              "<div>\n",
              "<style scoped>\n",
              "    .dataframe tbody tr th:only-of-type {\n",
              "        vertical-align: middle;\n",
              "    }\n",
              "\n",
              "    .dataframe tbody tr th {\n",
              "        vertical-align: top;\n",
              "    }\n",
              "\n",
              "    .dataframe thead th {\n",
              "        text-align: right;\n",
              "    }\n",
              "</style>\n",
              "<table border=\"1\" class=\"dataframe\">\n",
              "  <thead>\n",
              "    <tr style=\"text-align: right;\">\n",
              "      <th></th>\n",
              "      <th>0</th>\n",
              "    </tr>\n",
              "  </thead>\n",
              "  <tbody>\n",
              "    <tr>\n",
              "      <th>predict entity_value</th>\n",
              "      <td>108</td>\n",
              "    </tr>\n",
              "  </tbody>\n",
              "</table>\n",
              "</div><br><label><b>dtype:</b> int64</label>"
            ]
          },
          "metadata": {},
          "execution_count": 170
        }
      ]
    },
    {
      "cell_type": "code",
      "source": [],
      "metadata": {
        "id": "zp8YUODGhLUc"
      },
      "execution_count": null,
      "outputs": []
    },
    {
      "cell_type": "code",
      "source": [],
      "metadata": {
        "id": "XyKzdbrIgUy_"
      },
      "execution_count": null,
      "outputs": []
    }
  ]
}