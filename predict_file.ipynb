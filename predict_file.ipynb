{
  "nbformat": 4,
  "nbformat_minor": 0,
  "metadata": {
    "colab": {
      "provenance": []
    },
    "kernelspec": {
      "name": "python3",
      "display_name": "Python 3"
    },
    "language_info": {
      "name": "python"
    }
  },
  "cells": [
    {
      "cell_type": "code",
      "execution_count": null,
      "metadata": {
        "id": "WFtV7DQKcrOo"
      },
      "outputs": [],
      "source": [
        "%%capture\n",
        "!pip install spacy\n",
        "!python -m spacy download en_core_web_sm\n",
        "!pip install chromadb"
      ]
    },
    {
      "cell_type": "code",
      "source": [],
      "metadata": {
        "id": "NNvCEW3eA8eQ"
      },
      "execution_count": null,
      "outputs": []
    },
    {
      "cell_type": "code",
      "source": [
        "import pandas as pd\n",
        "import numpy as np\n",
        "\n",
        "#change karna ha maximum_weight_recommendation bhi add karna ha"
      ],
      "metadata": {
        "id": "2p5RwOSDdjm0"
      },
      "execution_count": null,
      "outputs": []
    },
    {
      "cell_type": "code",
      "source": [
        "import spacy\n",
        "nlp = spacy.load(\"en_core_web_sm\")"
      ],
      "metadata": {
        "id": "D4Brg_aZd9P9"
      },
      "execution_count": null,
      "outputs": []
    },
    {
      "cell_type": "code",
      "source": [
        "train_df=pd.read_csv(\"train.csv\")"
      ],
      "metadata": {
        "id": "_9HETLfhcwvA"
      },
      "execution_count": null,
      "outputs": []
    },
    {
      "cell_type": "code",
      "source": [
        "train_df.head()"
      ],
      "metadata": {
        "colab": {
          "base_uri": "https://localhost:8080/",
          "height": 206
        },
        "id": "hcCjMSkTdmM_",
        "outputId": "49d4c167-c62a-4364-a61f-5ceb8630c989"
      },
      "execution_count": null,
      "outputs": [
        {
          "output_type": "execute_result",
          "data": {
            "text/plain": [
              "                                          image_link  group_id  entity_name  \\\n",
              "0  https://m.media-amazon.com/images/I/61I9XdN6OF...    748919  item_weight   \n",
              "1  https://m.media-amazon.com/images/I/71gSRbyXmo...    916768  item_volume   \n",
              "2  https://m.media-amazon.com/images/I/61BZ4zrjZX...    459516  item_weight   \n",
              "3  https://m.media-amazon.com/images/I/612mrlqiI4...    459516  item_weight   \n",
              "4  https://m.media-amazon.com/images/I/617Tl40LOX...    731432  item_weight   \n",
              "\n",
              "     entity_value  \n",
              "0      500.0 gram  \n",
              "1         1.0 cup  \n",
              "2      0.709 gram  \n",
              "3      0.709 gram  \n",
              "4  1400 milligram  "
            ],
            "text/html": [
              "\n",
              "  <div id=\"df-f38dbe32-691f-490a-beb0-2b2facee2937\" class=\"colab-df-container\">\n",
              "    <div>\n",
              "<style scoped>\n",
              "    .dataframe tbody tr th:only-of-type {\n",
              "        vertical-align: middle;\n",
              "    }\n",
              "\n",
              "    .dataframe tbody tr th {\n",
              "        vertical-align: top;\n",
              "    }\n",
              "\n",
              "    .dataframe thead th {\n",
              "        text-align: right;\n",
              "    }\n",
              "</style>\n",
              "<table border=\"1\" class=\"dataframe\">\n",
              "  <thead>\n",
              "    <tr style=\"text-align: right;\">\n",
              "      <th></th>\n",
              "      <th>image_link</th>\n",
              "      <th>group_id</th>\n",
              "      <th>entity_name</th>\n",
              "      <th>entity_value</th>\n",
              "    </tr>\n",
              "  </thead>\n",
              "  <tbody>\n",
              "    <tr>\n",
              "      <th>0</th>\n",
              "      <td>https://m.media-amazon.com/images/I/61I9XdN6OF...</td>\n",
              "      <td>748919</td>\n",
              "      <td>item_weight</td>\n",
              "      <td>500.0 gram</td>\n",
              "    </tr>\n",
              "    <tr>\n",
              "      <th>1</th>\n",
              "      <td>https://m.media-amazon.com/images/I/71gSRbyXmo...</td>\n",
              "      <td>916768</td>\n",
              "      <td>item_volume</td>\n",
              "      <td>1.0 cup</td>\n",
              "    </tr>\n",
              "    <tr>\n",
              "      <th>2</th>\n",
              "      <td>https://m.media-amazon.com/images/I/61BZ4zrjZX...</td>\n",
              "      <td>459516</td>\n",
              "      <td>item_weight</td>\n",
              "      <td>0.709 gram</td>\n",
              "    </tr>\n",
              "    <tr>\n",
              "      <th>3</th>\n",
              "      <td>https://m.media-amazon.com/images/I/612mrlqiI4...</td>\n",
              "      <td>459516</td>\n",
              "      <td>item_weight</td>\n",
              "      <td>0.709 gram</td>\n",
              "    </tr>\n",
              "    <tr>\n",
              "      <th>4</th>\n",
              "      <td>https://m.media-amazon.com/images/I/617Tl40LOX...</td>\n",
              "      <td>731432</td>\n",
              "      <td>item_weight</td>\n",
              "      <td>1400 milligram</td>\n",
              "    </tr>\n",
              "  </tbody>\n",
              "</table>\n",
              "</div>\n",
              "    <div class=\"colab-df-buttons\">\n",
              "\n",
              "  <div class=\"colab-df-container\">\n",
              "    <button class=\"colab-df-convert\" onclick=\"convertToInteractive('df-f38dbe32-691f-490a-beb0-2b2facee2937')\"\n",
              "            title=\"Convert this dataframe to an interactive table.\"\n",
              "            style=\"display:none;\">\n",
              "\n",
              "  <svg xmlns=\"http://www.w3.org/2000/svg\" height=\"24px\" viewBox=\"0 -960 960 960\">\n",
              "    <path d=\"M120-120v-720h720v720H120Zm60-500h600v-160H180v160Zm220 220h160v-160H400v160Zm0 220h160v-160H400v160ZM180-400h160v-160H180v160Zm440 0h160v-160H620v160ZM180-180h160v-160H180v160Zm440 0h160v-160H620v160Z\"/>\n",
              "  </svg>\n",
              "    </button>\n",
              "\n",
              "  <style>\n",
              "    .colab-df-container {\n",
              "      display:flex;\n",
              "      gap: 12px;\n",
              "    }\n",
              "\n",
              "    .colab-df-convert {\n",
              "      background-color: #E8F0FE;\n",
              "      border: none;\n",
              "      border-radius: 50%;\n",
              "      cursor: pointer;\n",
              "      display: none;\n",
              "      fill: #1967D2;\n",
              "      height: 32px;\n",
              "      padding: 0 0 0 0;\n",
              "      width: 32px;\n",
              "    }\n",
              "\n",
              "    .colab-df-convert:hover {\n",
              "      background-color: #E2EBFA;\n",
              "      box-shadow: 0px 1px 2px rgba(60, 64, 67, 0.3), 0px 1px 3px 1px rgba(60, 64, 67, 0.15);\n",
              "      fill: #174EA6;\n",
              "    }\n",
              "\n",
              "    .colab-df-buttons div {\n",
              "      margin-bottom: 4px;\n",
              "    }\n",
              "\n",
              "    [theme=dark] .colab-df-convert {\n",
              "      background-color: #3B4455;\n",
              "      fill: #D2E3FC;\n",
              "    }\n",
              "\n",
              "    [theme=dark] .colab-df-convert:hover {\n",
              "      background-color: #434B5C;\n",
              "      box-shadow: 0px 1px 3px 1px rgba(0, 0, 0, 0.15);\n",
              "      filter: drop-shadow(0px 1px 2px rgba(0, 0, 0, 0.3));\n",
              "      fill: #FFFFFF;\n",
              "    }\n",
              "  </style>\n",
              "\n",
              "    <script>\n",
              "      const buttonEl =\n",
              "        document.querySelector('#df-f38dbe32-691f-490a-beb0-2b2facee2937 button.colab-df-convert');\n",
              "      buttonEl.style.display =\n",
              "        google.colab.kernel.accessAllowed ? 'block' : 'none';\n",
              "\n",
              "      async function convertToInteractive(key) {\n",
              "        const element = document.querySelector('#df-f38dbe32-691f-490a-beb0-2b2facee2937');\n",
              "        const dataTable =\n",
              "          await google.colab.kernel.invokeFunction('convertToInteractive',\n",
              "                                                    [key], {});\n",
              "        if (!dataTable) return;\n",
              "\n",
              "        const docLinkHtml = 'Like what you see? Visit the ' +\n",
              "          '<a target=\"_blank\" href=https://colab.research.google.com/notebooks/data_table.ipynb>data table notebook</a>'\n",
              "          + ' to learn more about interactive tables.';\n",
              "        element.innerHTML = '';\n",
              "        dataTable['output_type'] = 'display_data';\n",
              "        await google.colab.output.renderOutput(dataTable, element);\n",
              "        const docLink = document.createElement('div');\n",
              "        docLink.innerHTML = docLinkHtml;\n",
              "        element.appendChild(docLink);\n",
              "      }\n",
              "    </script>\n",
              "  </div>\n",
              "\n",
              "\n",
              "<div id=\"df-f3922017-35d3-42b6-8f5d-81b9a685cc9e\">\n",
              "  <button class=\"colab-df-quickchart\" onclick=\"quickchart('df-f3922017-35d3-42b6-8f5d-81b9a685cc9e')\"\n",
              "            title=\"Suggest charts\"\n",
              "            style=\"display:none;\">\n",
              "\n",
              "<svg xmlns=\"http://www.w3.org/2000/svg\" height=\"24px\"viewBox=\"0 0 24 24\"\n",
              "     width=\"24px\">\n",
              "    <g>\n",
              "        <path d=\"M19 3H5c-1.1 0-2 .9-2 2v14c0 1.1.9 2 2 2h14c1.1 0 2-.9 2-2V5c0-1.1-.9-2-2-2zM9 17H7v-7h2v7zm4 0h-2V7h2v10zm4 0h-2v-4h2v4z\"/>\n",
              "    </g>\n",
              "</svg>\n",
              "  </button>\n",
              "\n",
              "<style>\n",
              "  .colab-df-quickchart {\n",
              "      --bg-color: #E8F0FE;\n",
              "      --fill-color: #1967D2;\n",
              "      --hover-bg-color: #E2EBFA;\n",
              "      --hover-fill-color: #174EA6;\n",
              "      --disabled-fill-color: #AAA;\n",
              "      --disabled-bg-color: #DDD;\n",
              "  }\n",
              "\n",
              "  [theme=dark] .colab-df-quickchart {\n",
              "      --bg-color: #3B4455;\n",
              "      --fill-color: #D2E3FC;\n",
              "      --hover-bg-color: #434B5C;\n",
              "      --hover-fill-color: #FFFFFF;\n",
              "      --disabled-bg-color: #3B4455;\n",
              "      --disabled-fill-color: #666;\n",
              "  }\n",
              "\n",
              "  .colab-df-quickchart {\n",
              "    background-color: var(--bg-color);\n",
              "    border: none;\n",
              "    border-radius: 50%;\n",
              "    cursor: pointer;\n",
              "    display: none;\n",
              "    fill: var(--fill-color);\n",
              "    height: 32px;\n",
              "    padding: 0;\n",
              "    width: 32px;\n",
              "  }\n",
              "\n",
              "  .colab-df-quickchart:hover {\n",
              "    background-color: var(--hover-bg-color);\n",
              "    box-shadow: 0 1px 2px rgba(60, 64, 67, 0.3), 0 1px 3px 1px rgba(60, 64, 67, 0.15);\n",
              "    fill: var(--button-hover-fill-color);\n",
              "  }\n",
              "\n",
              "  .colab-df-quickchart-complete:disabled,\n",
              "  .colab-df-quickchart-complete:disabled:hover {\n",
              "    background-color: var(--disabled-bg-color);\n",
              "    fill: var(--disabled-fill-color);\n",
              "    box-shadow: none;\n",
              "  }\n",
              "\n",
              "  .colab-df-spinner {\n",
              "    border: 2px solid var(--fill-color);\n",
              "    border-color: transparent;\n",
              "    border-bottom-color: var(--fill-color);\n",
              "    animation:\n",
              "      spin 1s steps(1) infinite;\n",
              "  }\n",
              "\n",
              "  @keyframes spin {\n",
              "    0% {\n",
              "      border-color: transparent;\n",
              "      border-bottom-color: var(--fill-color);\n",
              "      border-left-color: var(--fill-color);\n",
              "    }\n",
              "    20% {\n",
              "      border-color: transparent;\n",
              "      border-left-color: var(--fill-color);\n",
              "      border-top-color: var(--fill-color);\n",
              "    }\n",
              "    30% {\n",
              "      border-color: transparent;\n",
              "      border-left-color: var(--fill-color);\n",
              "      border-top-color: var(--fill-color);\n",
              "      border-right-color: var(--fill-color);\n",
              "    }\n",
              "    40% {\n",
              "      border-color: transparent;\n",
              "      border-right-color: var(--fill-color);\n",
              "      border-top-color: var(--fill-color);\n",
              "    }\n",
              "    60% {\n",
              "      border-color: transparent;\n",
              "      border-right-color: var(--fill-color);\n",
              "    }\n",
              "    80% {\n",
              "      border-color: transparent;\n",
              "      border-right-color: var(--fill-color);\n",
              "      border-bottom-color: var(--fill-color);\n",
              "    }\n",
              "    90% {\n",
              "      border-color: transparent;\n",
              "      border-bottom-color: var(--fill-color);\n",
              "    }\n",
              "  }\n",
              "</style>\n",
              "\n",
              "  <script>\n",
              "    async function quickchart(key) {\n",
              "      const quickchartButtonEl =\n",
              "        document.querySelector('#' + key + ' button');\n",
              "      quickchartButtonEl.disabled = true;  // To prevent multiple clicks.\n",
              "      quickchartButtonEl.classList.add('colab-df-spinner');\n",
              "      try {\n",
              "        const charts = await google.colab.kernel.invokeFunction(\n",
              "            'suggestCharts', [key], {});\n",
              "      } catch (error) {\n",
              "        console.error('Error during call to suggestCharts:', error);\n",
              "      }\n",
              "      quickchartButtonEl.classList.remove('colab-df-spinner');\n",
              "      quickchartButtonEl.classList.add('colab-df-quickchart-complete');\n",
              "    }\n",
              "    (() => {\n",
              "      let quickchartButtonEl =\n",
              "        document.querySelector('#df-f3922017-35d3-42b6-8f5d-81b9a685cc9e button');\n",
              "      quickchartButtonEl.style.display =\n",
              "        google.colab.kernel.accessAllowed ? 'block' : 'none';\n",
              "    })();\n",
              "  </script>\n",
              "</div>\n",
              "\n",
              "    </div>\n",
              "  </div>\n"
            ],
            "application/vnd.google.colaboratory.intrinsic+json": {
              "type": "dataframe",
              "variable_name": "train_df"
            }
          },
          "metadata": {},
          "execution_count": 6
        }
      ]
    },
    {
      "cell_type": "code",
      "source": [
        "print(train_df[\"entity_name\"].unique())"
      ],
      "metadata": {
        "colab": {
          "base_uri": "https://localhost:8080/"
        },
        "id": "D2ADan_Hd_lt",
        "outputId": "b14d6ab2-53e3-4971-a807-ba9411ca9c0c"
      },
      "execution_count": null,
      "outputs": [
        {
          "output_type": "stream",
          "name": "stdout",
          "text": [
            "['item_weight' 'item_volume' 'voltage' 'wattage'\n",
            " 'maximum_weight_recommendation' 'height' 'depth' 'width']\n"
          ]
        }
      ]
    },
    {
      "cell_type": "code",
      "source": [
        "print(\"item weight:\",train_df[train_df[\"entity_name\"]=='item_weight'][\"entity_value\"].unique().shape)\n",
        "print(\"item_volume:\",train_df[train_df[\"entity_name\"]=='item_volume'][\"entity_value\"].unique().shape)\n",
        "print(\"voltage:\",train_df[train_df[\"entity_name\"]=='voltage'][\"entity_value\"].unique().shape)\n",
        "print(\"height:\",train_df[train_df[\"entity_name\"]=='height'][\"entity_value\"].unique().shape)\n",
        "print(\"depth:\",train_df[train_df[\"entity_name\"]=='depth'][\"entity_value\"].unique().shape)\n",
        "print(\"wattage\",train_df[train_df[\"entity_name\"]=='wattage'][\"entity_value\"].unique().shape)\n",
        "print(\"maximum_weight_recommendation\",train_df[train_df[\"entity_name\"]=='maximum_weight_recommendation'][\"entity_value\"].unique().shape)\n",
        "print(\"width:\",train_df[train_df[\"entity_name\"]=='width'][\"entity_value\"].unique().shape)"
      ],
      "metadata": {
        "colab": {
          "base_uri": "https://localhost:8080/"
        },
        "id": "rYaLQa-Pdpsy",
        "outputId": "4c30d33a-cd23-443f-f618-65a9a2acc0b2"
      },
      "execution_count": null,
      "outputs": [
        {
          "output_type": "stream",
          "name": "stdout",
          "text": [
            "item weight: (8435,)\n",
            "item_volume: (1117,)\n",
            "voltage: (436,)\n",
            "height: (3619,)\n",
            "depth: (3398,)\n",
            "wattage (562,)\n",
            "maximum_weight_recommendation (782,)\n",
            "width: (3330,)\n"
          ]
        }
      ]
    },
    {
      "cell_type": "code",
      "source": [
        "import chromadb\n",
        "from chromadb.config import Settings\n",
        "\n",
        "# Initialize ChromaDB\n",
        "\n",
        "chroma_client = chromadb.PersistentClient()\n",
        "\n",
        "# Initialize ChromaDB PersistentClient with a writable path\n",
        "\n",
        "# item weight: (8435,)\n",
        "# item_volume: (1117,)\n",
        "# voltage: (436,)\n",
        "# height: (3619,)\n",
        "# depth: (3398,)\n",
        "# width: (3330,)\n",
        "\n",
        "# Create a collection\n",
        "collection_weight11 = chroma_client.create_collection(name=\"collection_weight11\")\n",
        "collection_volume = chroma_client.create_collection(name=\"collection_volume\")\n",
        "collection_voltage = chroma_client.create_collection(name=\"collection_voltage\")\n",
        "collection_height = chroma_client.create_collection(name=\"collection_height\")\n",
        "collection_depth = chroma_client.create_collection(name=\"collection_depth\")\n",
        "collection_width = chroma_client.create_collection(name=\"collection_width\")\n",
        "collection_wattage = chroma_client.create_collection(name=\"collection_wattage\")\n",
        "collection_maximum_weight_recommendation = chroma_client.create_collection(name=\"collection_maximum_weight_recommendation\")"
      ],
      "metadata": {
        "id": "2ZtdIO6NftEA"
      },
      "execution_count": null,
      "outputs": []
    },
    {
      "cell_type": "code",
      "source": [
        "def convert_word_to_embeddings(word):\n",
        "    doc = nlp(word)\n",
        "    return doc.vector.tolist()"
      ],
      "metadata": {
        "id": "774kPgAGmjta"
      },
      "execution_count": null,
      "outputs": []
    },
    {
      "cell_type": "code",
      "source": [
        "def store_to_collection_weight11_vectordb(word):\n",
        "    embedding=convert_word_to_embeddings(word)\n",
        "    collection_weight11.add(\n",
        "        embeddings=[embedding],\n",
        "        documents=[word],\n",
        "        ids=[word]\n",
        "    )\n",
        "def store_to_collection_volume_vectordb(word):\n",
        "    embedding=convert_word_to_embeddings(word)\n",
        "    collection_volume.add(\n",
        "        embeddings=[embedding],\n",
        "        documents=[word],\n",
        "        ids=[word]\n",
        "    )\n",
        "def store_to_collection_voltage_vectordb(word):\n",
        "    embedding=convert_word_to_embeddings(word)\n",
        "    collection_voltage.add(\n",
        "        embeddings=[embedding],\n",
        "        documents=[word],\n",
        "        ids=[word]\n",
        "    )\n",
        "def store_to_collection_height_vectordb(word):\n",
        "    embedding=convert_word_to_embeddings(word)\n",
        "    collection_height.add(\n",
        "        embeddings=[embedding],\n",
        "        documents=[word],\n",
        "        ids=[word]\n",
        "    )\n",
        "def store_to_collection_depth_vectordb(word):\n",
        "    embedding=convert_word_to_embeddings(word)\n",
        "    collection_depth.add(\n",
        "        embeddings=[embedding],\n",
        "        documents=[word],\n",
        "        ids=[word]\n",
        "    )\n",
        "def store_to_collection_width_vectordb(word):\n",
        "    embedding=convert_word_to_embeddings(word)\n",
        "    collection_width.add(\n",
        "        embeddings=[embedding],\n",
        "        documents=[word],\n",
        "        ids=[word]\n",
        "    )\n",
        "def store_to_collection_wattage_vectordb(word):\n",
        "    embedding=convert_word_to_embeddings(word)\n",
        "    collection_wattage.add(\n",
        "        embeddings=[embedding],\n",
        "        documents=[word],\n",
        "        ids=[word]\n",
        "    )\n",
        "def store_to_collection_maximum_weight_recommendation_vectordb(word):\n",
        "    embedding=convert_word_to_embeddings(word)\n",
        "    collection_maximum_weight_recommendation.add(\n",
        "        embeddings=[embedding],\n",
        "        documents=[word],\n",
        "        ids=[word]\n",
        "    )"
      ],
      "metadata": {
        "id": "Z-Oykey4msP0"
      },
      "execution_count": null,
      "outputs": []
    },
    {
      "cell_type": "code",
      "source": [
        "from tqdm import tqdm"
      ],
      "metadata": {
        "id": "QAU3I1Qe6oPE"
      },
      "execution_count": null,
      "outputs": []
    },
    {
      "cell_type": "code",
      "source": [],
      "metadata": {
        "id": "UKGKAbdH7Hwa"
      },
      "execution_count": null,
      "outputs": []
    },
    {
      "cell_type": "code",
      "source": [
        "# def enter_data_in_vector_db(train_df):\n",
        "#   # for storing collection to weights\n",
        "#   for i in train_df[train_df[\"entity_name\"]=='item_weight'][\"entity_value\"].unique():\n",
        "#       store_to_collection_weight11_vectordb(i)\n",
        "\n",
        "#   #for storing collection to volume\n",
        "#   for i in train_df[train_df[\"entity_name\"]=='item_volume'][\"entity_value\"].unique():\n",
        "#       store_to_collection_volume_vectordb(i)\n",
        "\n",
        "#   #for storing collection to voltage\n",
        "#   for i in train_df[train_df[\"entity_name\"]=='voltage'][\"entity_value\"].unique():\n",
        "#       store_to_collection_voltage_vectordb(i)\n",
        "\n",
        "#   #for storing collection to voltage\n",
        "#   for i in train_df[train_df[\"entity_name\"]=='height'][\"entity_value\"].unique():\n",
        "#       store_to_collection_height_vectordb(i)\n",
        "\n",
        "#   #for storing collection to voltage\n",
        "#   for i in train_df[train_df[\"entity_name\"]=='depth'][\"entity_value\"].unique():\n",
        "#       store_to_collection_depth_vectordb(i)\n",
        "\n",
        "#   # for storing collection to width\n",
        "#   for i in train_df[train_df[\"entity_name\"]=='width'][\"entity_value\"].unique():\n",
        "#       store_to_collection_width_vectordb(i)\n",
        "\n",
        "#   print(\"data entered in vector db  with floowing names /n\")\n",
        "#   print(\"item_weight\")\n",
        "#   print(\"item_volume\")\n",
        "#   print(\"voltage\")\n",
        "#   print(\"height\")\n",
        "#   print(\"depth\")\n",
        "#   print(\"width\")\n",
        "\n"
      ],
      "metadata": {
        "id": "BvdaWLaVycdO"
      },
      "execution_count": null,
      "outputs": []
    },
    {
      "cell_type": "code",
      "source": [
        "def enter_data_in_vector_db(train_df):\n",
        "    # for storing collection to weights\n",
        "    print(\"Entering data for 'item_weight' collection...\")\n",
        "    for i in tqdm(train_df[train_df[\"entity_name\"] == 'item_weight'][\"entity_value\"].unique(), desc=\"item_weight\"):\n",
        "        store_to_collection_weight11_vectordb(i)\n",
        "\n",
        "    # for storing collection to volume\n",
        "    print(\"Entering data for 'item_volume' collection...\")\n",
        "    for i in tqdm(train_df[train_df[\"entity_name\"] == 'item_volume'][\"entity_value\"].unique(), desc=\"item_volume\"):\n",
        "        store_to_collection_volume_vectordb(i)\n",
        "\n",
        "    # for storing collection to voltage\n",
        "    print(\"Entering data for 'voltage' collection...\")\n",
        "    for i in tqdm(train_df[train_df[\"entity_name\"] == 'voltage'][\"entity_value\"].unique(), desc=\"voltage\"):\n",
        "        store_to_collection_voltage_vectordb(i)\n",
        "\n",
        "    # for storing collection to height\n",
        "    print(\"Entering data for 'height' collection...\")\n",
        "    for i in tqdm(train_df[train_df[\"entity_name\"] == 'height'][\"entity_value\"].unique(), desc=\"height\"):\n",
        "        store_to_collection_height_vectordb(i)\n",
        "\n",
        "    # for storing collection to depth\n",
        "    print(\"Entering data for 'depth' collection...\")\n",
        "    for i in tqdm(train_df[train_df[\"entity_name\"] == 'depth'][\"entity_value\"].unique(), desc=\"depth\"):\n",
        "        store_to_collection_depth_vectordb(i)\n",
        "\n",
        "    # for storing collection to width\n",
        "    print(\"Entering data for 'width' collection...\")\n",
        "    for i in tqdm(train_df[train_df[\"entity_name\"] == 'width'][\"entity_value\"].unique(), desc=\"width\"):\n",
        "        store_to_collection_width_vectordb(i)\n",
        "\n",
        "    print(\"Entering data to wattage collection\")\n",
        "    for i in tqdm(train_df[train_df[\"entity_name\"] == 'wattage'][\"entity_value\"].unique(), desc=\"wattage\"):\n",
        "        store_to_collection_wattage_vectordb(i)\n",
        "\n",
        "    print(\"entering data to collection_maximum_weight_recommendation collection\")\n",
        "    for i in tqdm(train_df[train_df[\"entity_name\"] == 'maximum_weight_recommendation'][\"entity_value\"].unique(), desc=\"collection_maximum_weight_recommendation\"):\n",
        "        store_to_collection_maximum_weight_recommendation_vectordb(i)\n",
        "\n",
        "\n",
        "    print(\"Data entered into vector DB with the following collections:\")\n",
        "    print(\"item_weight\")\n",
        "    print(\"item_volume\")\n",
        "    print(\"voltage\")\n",
        "    print(\"height\")\n",
        "    print(\"depth\")\n",
        "    print(\"width\")"
      ],
      "metadata": {
        "id": "vtuP7BaK7y-q"
      },
      "execution_count": null,
      "outputs": []
    },
    {
      "cell_type": "code",
      "source": [
        "enter_data_in_vector_db(train_df)"
      ],
      "metadata": {
        "colab": {
          "base_uri": "https://localhost:8080/"
        },
        "id": "lIelpwCB6ip0",
        "outputId": "35cbed4b-0ade-4908-fd4b-56fe1c1704dd"
      },
      "execution_count": null,
      "outputs": [
        {
          "output_type": "stream",
          "name": "stdout",
          "text": [
            "Entering data for 'item_weight' collection...\n"
          ]
        },
        {
          "output_type": "stream",
          "name": "stderr",
          "text": [
            "item_weight: 100%|██████████| 8435/8435 [02:49<00:00, 49.75it/s]\n"
          ]
        },
        {
          "output_type": "stream",
          "name": "stdout",
          "text": [
            "Entering data for 'item_volume' collection...\n"
          ]
        },
        {
          "output_type": "stream",
          "name": "stderr",
          "text": [
            "item_volume: 100%|██████████| 1117/1117 [00:22<00:00, 50.15it/s]\n"
          ]
        },
        {
          "output_type": "stream",
          "name": "stdout",
          "text": [
            "Entering data for 'voltage' collection...\n"
          ]
        },
        {
          "output_type": "stream",
          "name": "stderr",
          "text": [
            "voltage: 100%|██████████| 436/436 [00:08<00:00, 48.84it/s]\n"
          ]
        },
        {
          "output_type": "stream",
          "name": "stdout",
          "text": [
            "Entering data for 'height' collection...\n"
          ]
        },
        {
          "output_type": "stream",
          "name": "stderr",
          "text": [
            "height: 100%|██████████| 3619/3619 [01:12<00:00, 49.99it/s]\n"
          ]
        },
        {
          "output_type": "stream",
          "name": "stdout",
          "text": [
            "Entering data for 'depth' collection...\n"
          ]
        },
        {
          "output_type": "stream",
          "name": "stderr",
          "text": [
            "depth: 100%|██████████| 3398/3398 [01:08<00:00, 49.52it/s]\n"
          ]
        },
        {
          "output_type": "stream",
          "name": "stdout",
          "text": [
            "Entering data for 'width' collection...\n"
          ]
        },
        {
          "output_type": "stream",
          "name": "stderr",
          "text": [
            "width: 100%|██████████| 3330/3330 [01:08<00:00, 48.57it/s]\n"
          ]
        },
        {
          "output_type": "stream",
          "name": "stdout",
          "text": [
            "Entering data to wattage collection\n"
          ]
        },
        {
          "output_type": "stream",
          "name": "stderr",
          "text": [
            "wattage: 100%|██████████| 562/562 [00:13<00:00, 42.02it/s]\n"
          ]
        },
        {
          "output_type": "stream",
          "name": "stdout",
          "text": [
            "entering data to collection_maximum_weight_recommendation collection\n"
          ]
        },
        {
          "output_type": "stream",
          "name": "stderr",
          "text": [
            "collection_maximum_weight_recommendation: 100%|██████████| 782/782 [00:16<00:00, 47.15it/s]"
          ]
        },
        {
          "output_type": "stream",
          "name": "stdout",
          "text": [
            "Data entered into vector DB with the following collections:\n",
            "item_weight\n",
            "item_volume\n",
            "voltage\n",
            "height\n",
            "depth\n",
            "width\n"
          ]
        },
        {
          "output_type": "stream",
          "name": "stderr",
          "text": [
            "\n"
          ]
        }
      ]
    },
    {
      "cell_type": "code",
      "source": [
        "def search_similar_word(word,collection):\n",
        "    test_embed=convert_word_to_embeddings(word)\n",
        "    results = collection.query(\n",
        "        query_embeddings=test_embed,\n",
        "        n_results=10 # how many results to return i,e closest ones\n",
        "    )\n",
        "    return results.get(\"documents\")[0]"
      ],
      "metadata": {
        "id": "ccyh47DX391t"
      },
      "execution_count": null,
      "outputs": []
    },
    {
      "cell_type": "code",
      "source": [
        "search_similar_word(\"[208 240] volt\",collection_voltage)"
      ],
      "metadata": {
        "colab": {
          "base_uri": "https://localhost:8080/"
        },
        "id": "4_lDa3yJyDZi",
        "outputId": "148d1fba-3721-43f0-9458-944a9d155213"
      },
      "execution_count": null,
      "outputs": [
        {
          "output_type": "execute_result",
          "data": {
            "text/plain": [
              "['[18.0, 70.0] volt',\n",
              " '[14.4, 18.0] volt',\n",
              " '[12.0, 18.0] volt',\n",
              " '[9.0, 36.0] volt',\n",
              " '[10.0, 18.0] volt',\n",
              " '[9.0, 14.0] volt',\n",
              " '[18.0, 20.0] volt',\n",
              " '[5.0, 6.0] volt',\n",
              " '[48.0, 54.0] volt',\n",
              " '[9.0, 14.4] volt']"
            ]
          },
          "metadata": {},
          "execution_count": 25
        }
      ]
    },
    {
      "cell_type": "code",
      "source": [
        "# 41.9 kilogram\n",
        "# 4000.0 kilogram\n",
        "# 7.71 gram\n",
        "# 1160.0 milligram\n",
        "# 20000.0 microgram\n",
        "# 888.0 milligram\n",
        "# 124.2 gram\n",
        "# 35.6 pound\n",
        "# 602555.0 gram\n",
        "# 32.83 gram\n",
        "# 492001.0 gram\n",
        "# 10650.0 milligram\n",
        "# 10013801.0 pound\n",
        "# 3.66 pound\n",
        "# [25.0, 40.0] pound\n",
        "# 83047.0 gram\n",
        "# 60.85 pound\n",
        "# [7.0, 15.0] kilogram\n",
        "# 464.0 gram\n",
        "# 5912057.0 gram\n",
        "# 4.93 pound\n",
        "# 0.84375 gram\n",
        "# 111.6 gram\n",
        "# 1500.0 microgram\n",
        "# 67.36 gram"
      ],
      "metadata": {
        "id": "VMMVhGMboRK-"
      },
      "execution_count": null,
      "outputs": []
    },
    {
      "cell_type": "code",
      "source": [
        "import predict_class as pc"
      ],
      "metadata": {
        "id": "G0d7mRwb9dCD"
      },
      "execution_count": null,
      "outputs": []
    },
    {
      "cell_type": "code",
      "source": [
        "pc.enter_data_in_vector_db(train_df)"
      ],
      "metadata": {
        "colab": {
          "base_uri": "https://localhost:8080/"
        },
        "id": "xbvOogwL9fYu",
        "outputId": "ff72a57f-5d79-4d82-ddcc-adec65cd9f2c"
      },
      "execution_count": null,
      "outputs": [
        {
          "output_type": "stream",
          "name": "stdout",
          "text": [
            "Entering data for 'item_weight' collection...\n"
          ]
        },
        {
          "output_type": "stream",
          "name": "stderr",
          "text": [
            "item_weight: 100%|██████████| 8435/8435 [03:08<00:00, 44.67it/s]\n"
          ]
        },
        {
          "output_type": "stream",
          "name": "stdout",
          "text": [
            "Entering data for 'item_volume' collection...\n"
          ]
        },
        {
          "output_type": "stream",
          "name": "stderr",
          "text": [
            "item_volume: 100%|██████████| 1117/1117 [00:24<00:00, 45.21it/s]\n"
          ]
        },
        {
          "output_type": "stream",
          "name": "stdout",
          "text": [
            "Entering data for 'voltage' collection...\n"
          ]
        },
        {
          "output_type": "stream",
          "name": "stderr",
          "text": [
            "voltage: 100%|██████████| 436/436 [00:09<00:00, 44.37it/s]\n"
          ]
        },
        {
          "output_type": "stream",
          "name": "stdout",
          "text": [
            "Entering data for 'height' collection...\n"
          ]
        },
        {
          "output_type": "stream",
          "name": "stderr",
          "text": [
            "height: 100%|██████████| 3619/3619 [01:19<00:00, 45.55it/s]\n"
          ]
        },
        {
          "output_type": "stream",
          "name": "stdout",
          "text": [
            "Entering data for 'depth' collection...\n"
          ]
        },
        {
          "output_type": "stream",
          "name": "stderr",
          "text": [
            "depth: 100%|██████████| 3398/3398 [01:20<00:00, 42.17it/s]\n"
          ]
        },
        {
          "output_type": "stream",
          "name": "stdout",
          "text": [
            "Entering data for 'width' collection...\n"
          ]
        },
        {
          "output_type": "stream",
          "name": "stderr",
          "text": [
            "width: 100%|██████████| 3330/3330 [01:30<00:00, 36.95it/s]"
          ]
        },
        {
          "output_type": "stream",
          "name": "stdout",
          "text": [
            "Data entered into vector DB with the following collections:\n",
            "item_weight\n",
            "item_volume\n",
            "voltage\n",
            "height\n",
            "depth\n",
            "width\n"
          ]
        },
        {
          "output_type": "stream",
          "name": "stderr",
          "text": [
            "\n"
          ]
        }
      ]
    },
    {
      "cell_type": "code",
      "source": [
        "pc.search_similar_word(\"100 g\",\"collection_weight11\")"
      ],
      "metadata": {
        "colab": {
          "base_uri": "https://localhost:8080/",
          "height": 263
        },
        "id": "fFSu9ScX99M9",
        "outputId": "51f7aafd-11f2-47cc-8a90-349d5371ba6a"
      },
      "execution_count": null,
      "outputs": [
        {
          "output_type": "error",
          "ename": "AttributeError",
          "evalue": "'str' object has no attribute 'query'",
          "traceback": [
            "\u001b[0;31m---------------------------------------------------------------------------\u001b[0m",
            "\u001b[0;31mAttributeError\u001b[0m                            Traceback (most recent call last)",
            "\u001b[0;32m<ipython-input-13-f22ce183d1d2>\u001b[0m in \u001b[0;36m<cell line: 1>\u001b[0;34m()\u001b[0m\n\u001b[0;32m----> 1\u001b[0;31m \u001b[0mpc\u001b[0m\u001b[0;34m.\u001b[0m\u001b[0msearch_similar_word\u001b[0m\u001b[0;34m(\u001b[0m\u001b[0;34m\"100 g\"\u001b[0m\u001b[0;34m,\u001b[0m\u001b[0;34m\"collection_weight11\"\u001b[0m\u001b[0;34m)\u001b[0m\u001b[0;34m\u001b[0m\u001b[0;34m\u001b[0m\u001b[0m\n\u001b[0m",
            "\u001b[0;32m/content/predict_class.py\u001b[0m in \u001b[0;36msearch_similar_word\u001b[0;34m(word, collection)\u001b[0m\n\u001b[1;32m    112\u001b[0m     \u001b[0mprint\u001b[0m\u001b[0;34m(\u001b[0m\u001b[0;34m\"item_weight\"\u001b[0m\u001b[0;34m)\u001b[0m\u001b[0;34m\u001b[0m\u001b[0;34m\u001b[0m\u001b[0m\n\u001b[1;32m    113\u001b[0m     \u001b[0mprint\u001b[0m\u001b[0;34m(\u001b[0m\u001b[0;34m\"item_volume\"\u001b[0m\u001b[0;34m)\u001b[0m\u001b[0;34m\u001b[0m\u001b[0;34m\u001b[0m\u001b[0m\n\u001b[0;32m--> 114\u001b[0;31m     \u001b[0mprint\u001b[0m\u001b[0;34m(\u001b[0m\u001b[0;34m\"voltage\"\u001b[0m\u001b[0;34m)\u001b[0m\u001b[0;34m\u001b[0m\u001b[0;34m\u001b[0m\u001b[0m\n\u001b[0m\u001b[1;32m    115\u001b[0m     \u001b[0mprint\u001b[0m\u001b[0;34m(\u001b[0m\u001b[0;34m\"height\"\u001b[0m\u001b[0;34m)\u001b[0m\u001b[0;34m\u001b[0m\u001b[0;34m\u001b[0m\u001b[0m\n\u001b[1;32m    116\u001b[0m     \u001b[0mprint\u001b[0m\u001b[0;34m(\u001b[0m\u001b[0;34m\"depth\"\u001b[0m\u001b[0;34m)\u001b[0m\u001b[0;34m\u001b[0m\u001b[0;34m\u001b[0m\u001b[0m\n",
            "\u001b[0;31mAttributeError\u001b[0m: 'str' object has no attribute 'query'"
          ]
        }
      ]
    },
    {
      "cell_type": "code",
      "source": [],
      "metadata": {
        "id": "NfIiBn3mAQge"
      },
      "execution_count": null,
      "outputs": []
    }
  ]
}